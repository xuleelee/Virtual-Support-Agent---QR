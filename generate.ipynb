{
 "cells": [
  {
   "cell_type": "code",
   "execution_count": null,
   "metadata": {},
   "outputs": [],
   "source": [
    "import qrcode\n",
    "# Link for website\n",
    "input_data = \"https://bmsndev.espressive.com/app/barista?phrase=report%20meeting%20room%20issues%20in%20Australia&submit=y\"\n",
    "#Creating an instance of qrcode\n",
    "qr = qrcode.QRCode(\n",
    "        version=1,\n",
    "        box_size=10,\n",
    "        border=5)\n",
    "qr.add_data(input_data)\n",
    "qr.make(fit=True)\n",
    "img = qr.make_image(fill='black', back_color='white')\n",
    "img.save('Barista_QR.png')\n"
   ]
  },
  {
   "cell_type": "markdown",
   "metadata": {},
   "source": [
    "Successfully Generate QR"
   ]
  },
  {
   "cell_type": "code",
   "execution_count": null,
   "metadata": {},
   "outputs": [],
   "source": [
    "import tempfile\n",
    "import segno\n",
    "import xlwings as xw\n",
    "\n",
    "\n"
   ]
  },
  {
   "cell_type": "code",
   "execution_count": null,
   "metadata": {},
   "outputs": [],
   "source": [
    "# Update this with the name of your workbook\n",
    "book = xw.Book('2.xlsx')\n",
    "sheet = xw.sheets[0]\n",
    "\n",
    "# Update this with the starting cell of your URLs\n",
    "start_cell = sheet['B2']\n",
    "urls = start_cell.options(expand='down', ndim=1).value\n",
    "\n",
    "# Loop through each URL and generate the QR code\n",
    "for ix, url in enumerate(urls):\n",
    "    # Generate the QR code\n",
    "    qr = segno.make(url)\n",
    "    with tempfile.TemporaryDirectory() as td:\n",
    "        # Save the QR code as a temporary svg file. If you are on macOS, use pdf\n",
    "        # instead and if you don't have Microsoft 365, you may have to use png\n",
    "        filepath = f'{td}/qr.svg'\n",
    "        qr.save(filepath, scale=5, border=0, finder_dark='#15a43a')\n",
    "        # Insert the QR code to the right of the URL\n",
    "        destination_cell = start_cell.offset(row_offset=ix, column_offset=1)\n",
    "        sheet.pictures.add(filepath,\n",
    "                           left=destination_cell.left,\n",
    "                           top=destination_cell.top)"
   ]
  },
  {
   "cell_type": "code",
   "execution_count": 83,
   "metadata": {},
   "outputs": [
    {
     "name": "stdout",
     "output_type": "stream",
     "text": [
      "                 Asset-Tag                                                URL  \\\n",
      "0     BMS-SGI-room-MP4000B  https://bmsndev.espressive.com/app/barista?phr...   \n",
      "1   CCD-18F-F002-RCHMP2852  https://bmsndev.espressive.com/app/barista?phr...   \n",
      "2           PA-3090M400008  https://bmsndev.espressive.com/app/barista?phr...   \n",
      "3           PA-3090M400119  https://bmsndev.espressive.com/app/barista?phr...   \n",
      "4           PA-3099M900006  https://bmsndev.espressive.com/app/barista?phr...   \n",
      "5           PA-3101M700081  https://bmsndev.espressive.com/app/barista?phr...   \n",
      "6           PA-3120M580082  https://bmsndev.espressive.com/app/barista?phr...   \n",
      "7           PA-3129MA80100  https://bmsndev.espressive.com/app/barista?phr...   \n",
      "8           PA-3129MA80179  https://bmsndev.espressive.com/app/barista?phr...   \n",
      "9           PA-3129MB80051  https://bmsndev.espressive.com/app/barista?phr...   \n",
      "10          PA-3149M950027  https://bmsndev.espressive.com/app/barista?phr...   \n",
      "11          PA-C350P200140  https://bmsndev.espressive.com/app/barista?phr...   \n",
      "12          PA-C350P200141  https://bmsndev.espressive.com/app/barista?phr...   \n",
      "13          PA-C350P200143  https://bmsndev.espressive.com/app/barista?phr...   \n",
      "14          PA-C351P750154  https://bmsndev.espressive.com/app/barista?phr...   \n",
      "\n",
      "    QR Code  \n",
      "0       NaN  \n",
      "1       NaN  \n",
      "2       NaN  \n",
      "3       NaN  \n",
      "4       NaN  \n",
      "5       NaN  \n",
      "6       NaN  \n",
      "7       NaN  \n",
      "8       NaN  \n",
      "9       NaN  \n",
      "10      NaN  \n",
      "11      NaN  \n",
      "12      NaN  \n",
      "13      NaN  \n",
      "14      NaN  \n"
     ]
    }
   ],
   "source": [
    "import pandas as pd\n",
    "from openpyxl import load_workbook\n",
    "\n",
    "df = pd.read_excel('1.xlsx', sheet_name='Sheet1')\n",
    "# Using + operator to combine two columns\n",
    "# print(df.header)\n",
    "# df.AssetTag = df.AssetTag + 'new'\n",
    "\n",
    "df['URL'] = \"https://bmsndev.espressive.com/app/barista?phrase=\" + + df['Asset-Tag'].astype(str) + \"&submit=y\" \n",
    "print(df)\n",
    "# FilePath = \"2.csv\"\n",
    "# df.to_csv(FilePath, mode='a', index = False)\n",
    "\n",
    "\n",
    "df.to_excel('4.xlsx', index = False)\n",
    "\n",
    "\n",
    "writer = pd.ExcelWriter('4.xlsx') \n",
    "df.to_excel(writer, sheet_name='Sheet1', index=False)\n",
    "\n",
    "for column in df:\n",
    "    column_length = max(df[column].astype(str).map(len).max(), len(column))\n",
    "    col_idx = df.columns.get_loc(column)\n",
    "    writer.sheets['Sheet1'].set_column(col_idx, col_idx, column_length)\n",
    "    writer.sheets['Sheet1'].set_row(1,20, 400)\n",
    "    \n",
    "    # writer.sheets['Sheet1']._widget.setRowHeight(150)\n",
    "writer.save()\n",
    "\n",
    "\n",
    "\n",
    "\n",
    "\n",
    "\n",
    "# ExcelWorkbook = load_workbook(FilePath)\n",
    "# writer = pd.ExcelWriter(FilePath, engine = 'openpyxl')\n",
    "# writer.book = ExcelWorkbook\n",
    "# df.to_excel(writer, sheet_name = 'Sheet1')\n",
    "# writer.save()\n",
    "# writer.close()"
   ]
  }
 ],
 "metadata": {
  "kernelspec": {
   "display_name": "Python 3.9.12 ('base')",
   "language": "python",
   "name": "python3"
  },
  "language_info": {
   "codemirror_mode": {
    "name": "ipython",
    "version": 3
   },
   "file_extension": ".py",
   "mimetype": "text/x-python",
   "name": "python",
   "nbconvert_exporter": "python",
   "pygments_lexer": "ipython3",
   "version": "3.9.12"
  },
  "orig_nbformat": 4,
  "vscode": {
   "interpreter": {
    "hash": "fd16a1c2e981052eaae61151b9525ae9913f1f0d16bca6b7e7be9e0f29d739d2"
   }
  }
 },
 "nbformat": 4,
 "nbformat_minor": 2
}
