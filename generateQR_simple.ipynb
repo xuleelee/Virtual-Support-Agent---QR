{
 "cells": [
  {
   "cell_type": "code",
   "execution_count": null,
   "metadata": {},
   "outputs": [],
   "source": [
    "import qrcode\n",
    "# Link for website\n",
    "input_data = \"https://bmsndev.espressive.com/app/barista?phrase=report%20meeting%20room%20issues%20in%20Australia&submit=y\"\n",
    "#Creating an instance of qrcode\n",
    "qr = qrcode.QRCode(\n",
    "        version=1,\n",
    "        box_size=10,\n",
    "        border=5)\n",
    "qr.add_data(input_data)\n",
    "qr.make(fit=True)\n",
    "img = qr.make_image(fill='black', back_color='white')\n",
    "img.save('Barista_QR.png')\n"
   ]
  }
 ],
 "metadata": {
  "kernelspec": {
   "display_name": "Python 3.9.2 64-bit",
   "language": "python",
   "name": "python3"
  },
  "language_info": {
   "name": "python",
   "version": "3.9.2"
  },
  "orig_nbformat": 4,
  "vscode": {
   "interpreter": {
    "hash": "e0a2c4b3ececbf36231298f2b76206888f05092e045e9e6f3460f2eae1006fd2"
   }
  }
 },
 "nbformat": 4,
 "nbformat_minor": 2
}
